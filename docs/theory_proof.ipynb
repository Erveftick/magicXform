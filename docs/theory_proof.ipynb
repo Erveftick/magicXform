{
 "cells": [
  {
   "cell_type": "markdown",
   "metadata": {},
   "source": [
    "## Proofs for equisat/non-equisat for variable substitution technique used in magicXform\n",
    "\n",
    "In the file represented original transition system (ts0) and transformed transition system (ts1)"
   ]
  },
  {
   "cell_type": "code",
   "execution_count": 2,
   "metadata": {},
   "outputs": [],
   "source": [
    "import sys\n",
    "sys.path.insert(1, '/Users/ekvashyn/Code/spacer-on-jupyter/src/')\n",
    "from spacer_tutorial import *\n",
    "import z3\n",
    "z3.set_param(proof=True)\n",
    "z3.set_param(model=True)\n",
    "z3.set_html_mode(True)\n"
   ]
  },
  {
   "cell_type": "code",
   "execution_count": 3,
   "metadata": {},
   "outputs": [
    {
     "data": {
      "text/html": [
       "Transition System: Ts0<br/>\tInit: x = 0 &and; y = 5000<br/>\tBad: x = 10000 &and; x &ne; y<br/>\tTr: x' = x + 1 &and; y' = If(x &ge; 5000, y + 1, y)"
      ],
      "text/plain": [
       "\"Transition System: Ts0<br/>\\tInit: x = 0 &and; y = 5000<br/>\\tBad: x = 10000 &and; x &ne; y<br/>\\tTr: x' = x + 1 &and; y' = If(x &ge; 5000, y + 1, y)\""
      ]
     },
     "execution_count": 3,
     "metadata": {},
     "output_type": "execute_result"
    }
   ],
   "source": [
    "def mk_ts0():\n",
    "    T = Ts('Ts0')\n",
    "    x, x_out = T.add_var(z3.IntSort(), name='x')\n",
    "    y, y_out = T.add_var(z3.IntSort(), name='y')\n",
    "    T.Init = z3.And(x == 0, y == 5000)\n",
    "    T.Tr = z3.And(x_out == x + 1, y_out == z3.If(x >= 5000, y+1, y))\n",
    "    T.Bad = z3.And(x == 10000, x != y)\n",
    "    return T\n",
    "\n",
    "ts0 = mk_ts0()\n",
    "HtmlStr(ts0)"
   ]
  },
  {
   "cell_type": "code",
   "execution_count": 4,
   "metadata": {},
   "outputs": [
    {
     "data": {
      "text/html": [
       "Transition System: Ts1<br/>\tInit: a = 5000 &and; b = 10000 &and; x = 0 &and; y = a<br/>\tBad: x = b &and; x &ne; y<br/>\tTr: x' = x + 1 &and; y' = If(x &ge; a, y + 1, y) &and; a' = a &and; b' = b"
      ],
      "text/plain": [
       "\"Transition System: Ts1<br/>\\tInit: a = 5000 &and; b = 10000 &and; x = 0 &and; y = a<br/>\\tBad: x = b &and; x &ne; y<br/>\\tTr: x' = x + 1 &and; y' = If(x &ge; a, y + 1, y) &and; a' = a &and; b' = b\""
      ]
     },
     "execution_count": 4,
     "metadata": {},
     "output_type": "execute_result"
    }
   ],
   "source": [
    "def mk_ts1():\n",
    "    T = Ts('Ts1')\n",
    "    x, x_out = T.add_var(z3.IntSort(), name='x')\n",
    "    y, y_out = T.add_var(z3.IntSort(), name='y')\n",
    "    a, a_out = T.add_var(z3.IntSort(), name='a')\n",
    "    b, b_out = T.add_var(z3.IntSort(), name='b')\n",
    "    T.Init = z3.And(a == 5000, b == 10000, x == 0, y == a)\n",
    "    T.Tr = z3.And(x_out == x + 1, y_out == z3.If(x >= a, y+1, y), a_out == a, b_out == b)\n",
    "    T.Bad = z3.And(x == b, x != y)\n",
    "    return T\n",
    "\n",
    "ts1 = mk_ts1()\n",
    "HtmlStr(ts1)"
   ]
  },
  {
   "cell_type": "code",
   "execution_count": 5,
   "metadata": {},
   "outputs": [],
   "source": [
    "def vc_gen(T):\n",
    "    '''Verification Condition (VC) for an Inductive Invariant'''\n",
    "    Inv = z3.Function('Inv', *(T.sig() + [z3.BoolSort()]))\n",
    "\n",
    "    InvPre = Inv(*T.pre_vars())\n",
    "    InvPost = Inv(*T.post_vars())\n",
    "\n",
    "    all_vars = T.all()\n",
    "    vc_init = z3.ForAll(all_vars, z3.Implies(T.Init, InvPre))\n",
    "    vc_ind = z3.ForAll(all_vars, z3.Implies(z3.And(InvPre, T.Tr), InvPost))\n",
    "    vc_bad = z3.ForAll(all_vars, z3.Implies(z3.And(InvPre, T.Bad), z3.BoolVal(False)))\n",
    "    return [vc_init, vc_ind, vc_bad], InvPre"
   ]
  },
  {
   "cell_type": "code",
   "execution_count": 6,
   "metadata": {},
   "outputs": [],
   "source": [
    "vc0, inv0 = vc_gen(ts0)\n",
    "vc1, inv1 = vc_gen(ts1)"
   ]
  },
  {
   "cell_type": "code",
   "execution_count": 7,
   "metadata": {},
   "outputs": [
    {
     "data": {
      "text/html": [
       "&forall;x, y, x', y' : x = 0 &and; y = 5000 &rArr; Inv(x, y) <br/><br/>&forall;x, y, x', y' :<br/> Inv(x, y) &and; x' = x + 1 &and; y' = If(x &ge; 5000, y + 1, y) &rArr;<br/> Inv(x', y') <br/><br/>&forall;x, y, x', y' : Inv(x, y) &and; x = 10000 &and; x &ne; y &rArr; False <br/><br/>"
      ],
      "text/plain": [
       "\"&forall;x, y, x', y' : x = 0 &and; y = 5000 &rArr; Inv(x, y) <br/><br/>&forall;x, y, x', y' :<br/> Inv(x, y) &and; x' = x + 1 &and; y' = If(x &ge; 5000, y + 1, y) &rArr;<br/> Inv(x', y') <br/><br/>&forall;x, y, x', y' : Inv(x, y) &and; x = 10000 &and; x &ne; y &rArr; False <br/><br/>\""
      ]
     },
     "execution_count": 7,
     "metadata": {},
     "output_type": "execute_result"
    }
   ],
   "source": [
    "chc_to_str(vc0)"
   ]
  },
  {
   "cell_type": "code",
   "execution_count": 8,
   "metadata": {},
   "outputs": [
    {
     "data": {
      "text/html": [
       "&forall;x, y, a, b, x', y', a', b' :<br/> a = 5000 &and; b = 10000 &and; x = 0 &and; y = a &rArr; Inv(x, y, a, b) <br/><br/>&forall;x, y, a, b, x', y', a', b' :<br/> Inv(x, y, a, b) &and;<br/> x' = x + 1 &and;<br/> y' = If(x &ge; a, y + 1, y) &and;<br/> a' = a &and;<br/> b' = b &rArr;<br/> Inv(x', y', a', b') <br/><br/>&forall;x, y, a, b, x', y', a', b' :<br/> Inv(x, y, a, b) &and; x = b &and; x &ne; y &rArr; False <br/><br/>"
      ],
      "text/plain": [
       "\"&forall;x, y, a, b, x', y', a', b' :<br/> a = 5000 &and; b = 10000 &and; x = 0 &and; y = a &rArr; Inv(x, y, a, b) <br/><br/>&forall;x, y, a, b, x', y', a', b' :<br/> Inv(x, y, a, b) &and;<br/> x' = x + 1 &and;<br/> y' = If(x &ge; a, y + 1, y) &and;<br/> a' = a &and;<br/> b' = b &rArr;<br/> Inv(x', y', a', b') <br/><br/>&forall;x, y, a, b, x', y', a', b' :<br/> Inv(x, y, a, b) &and; x = b &and; x &ne; y &rArr; False <br/><br/>\""
      ]
     },
     "execution_count": 8,
     "metadata": {},
     "output_type": "execute_result"
    }
   ],
   "source": [
    "chc_to_str(vc1)"
   ]
  },
  {
   "cell_type": "markdown",
   "metadata": {},
   "source": [
    "#### Invariants for those 2 systems locates below"
   ]
  },
  {
   "cell_type": "code",
   "execution_count": 9,
   "metadata": {},
   "outputs": [
    {
     "data": {
      "text/html": [
       "Inv(x, y)"
      ],
      "text/plain": [
       "'Inv(x, y)'"
      ]
     },
     "execution_count": 9,
     "metadata": {},
     "output_type": "execute_result"
    }
   ],
   "source": [
    "HtmlStr(inv0)"
   ]
  },
  {
   "cell_type": "code",
   "execution_count": 10,
   "metadata": {},
   "outputs": [
    {
     "data": {
      "text/html": [
       "Inv(x, y, a, b)"
      ],
      "text/plain": [
       "'Inv(x, y, a, b)'"
      ]
     },
     "execution_count": 10,
     "metadata": {},
     "output_type": "execute_result"
    }
   ],
   "source": [
    "HtmlStr(inv1)"
   ]
  },
  {
   "cell_type": "code",
   "execution_count": 37,
   "metadata": {},
   "outputs": [],
   "source": [
    "res0, answer0 = solve_horn(vc0, max_unfold=100)"
   ]
  },
  {
   "cell_type": "code",
   "execution_count": 38,
   "metadata": {},
   "outputs": [],
   "source": [
    "res1, answer1 = solve_horn(vc1, max_unfold=100)"
   ]
  },
  {
   "cell_type": "code",
   "execution_count": 39,
   "metadata": {},
   "outputs": [
    {
     "data": {
      "text/html": [
       "<b>sat</b>"
      ],
      "text/plain": [
       "<b>sat</b>"
      ]
     },
     "execution_count": 39,
     "metadata": {},
     "output_type": "execute_result"
    }
   ],
   "source": [
    "res0"
   ]
  },
  {
   "cell_type": "code",
   "execution_count": 40,
   "metadata": {},
   "outputs": [
    {
     "data": {
      "text/html": [
       "<b>sat</b>"
      ],
      "text/plain": [
       "<b>sat</b>"
      ]
     },
     "execution_count": 40,
     "metadata": {},
     "output_type": "execute_result"
    }
   ],
   "source": [
    "res1"
   ]
  },
  {
   "cell_type": "code",
   "execution_count": 50,
   "metadata": {},
   "outputs": [
    {
     "data": {
      "text/html": [
       "[Inv = [else &rarr;\n",
       "        (&not;(&#957;<sub>0</sub> &le; 5000) &or; &not;(&#957;<sub>1</sub> &ge; 5001)) &and;\n",
       "        &not;(&#957;<sub>0</sub> + -1&middot;&#957;<sub>1</sub> &ge; 1) &and;\n",
       "        (&not;(&#957;<sub>0</sub> &ge; 5000) &or; &not;(&#957;<sub>0</sub> + -1&middot;&#957;<sub>1</sub> &le; -1)) &and;\n",
       "        &not;(&#957;<sub>1</sub> &le; 4999)]]"
      ],
      "text/plain": [
       "[Inv = [else &rarr;\n",
       "        (&not;(&#957;<sub>0</sub> &le; 5000) &or; &not;(&#957;<sub>1</sub> &ge; 5001)) &and;\n",
       "        &not;(&#957;<sub>0</sub> + -1&middot;&#957;<sub>1</sub> &ge; 1) &and;\n",
       "        (&not;(&#957;<sub>0</sub> &ge; 5000) &or; &not;(&#957;<sub>0</sub> + -1&middot;&#957;<sub>1</sub> &le; -1)) &and;\n",
       "        &not;(&#957;<sub>1</sub> &le; 4999)]]"
      ]
     },
     "execution_count": 50,
     "metadata": {},
     "output_type": "execute_result"
    }
   ],
   "source": [
    "answer0"
   ]
  },
  {
   "cell_type": "code",
   "execution_count": 51,
   "metadata": {},
   "outputs": [
    {
     "data": {
      "text/html": [
       "[Inv = [else &rarr;\n",
       "        (&not;(&#957;<sub>1</sub> + -1&middot;&#957;<sub>0</sub> &le; -1) &or; &not;(&#957;<sub>0</sub> + -1&middot;&#957;<sub>3</sub> &ge; -3)) &and;\n",
       "        &not;(&#957;<sub>2</sub> + -1&middot;&#957;<sub>3</sub> &ge; -4999) &and;\n",
       "        (&not;(&#957;<sub>0</sub> + -1&middot;&#957;<sub>2</sub> &le; -1) &or; &not;(&#957;<sub>1</sub> + -1&middot;&#957;<sub>2</sub> &ge; 1)) &and;\n",
       "        (&not;(&#957;<sub>1</sub> + -1&middot;&#957;<sub>0</sub> &le; -1) &or;\n",
       "         &not;(&#957;<sub>0</sub> + -1&middot;&#957;<sub>3</sub> &le; -2) &or;\n",
       "         &not;(&#957;<sub>0</sub> + -1&middot;&#957;<sub>2</sub> &ge; 0)) &and;\n",
       "        &not;(&#957;<sub>1</sub> + -1&middot;&#957;<sub>2</sub> &le; -1) &and;\n",
       "        (&not;(&#957;<sub>0</sub> + -1&middot;&#957;<sub>2</sub> &ge; 0) &or; &not;(&#957;<sub>1</sub> + -1&middot;&#957;<sub>0</sub> &ge; 1))]]"
      ],
      "text/plain": [
       "[Inv = [else &rarr;\n",
       "        (&not;(&#957;<sub>1</sub> + -1&middot;&#957;<sub>0</sub> &le; -1) &or; &not;(&#957;<sub>0</sub> + -1&middot;&#957;<sub>3</sub> &ge; -3)) &and;\n",
       "        &not;(&#957;<sub>2</sub> + -1&middot;&#957;<sub>3</sub> &ge; -4999) &and;\n",
       "        (&not;(&#957;<sub>0</sub> + -1&middot;&#957;<sub>2</sub> &le; -1) &or; &not;(&#957;<sub>1</sub> + -1&middot;&#957;<sub>2</sub> &ge; 1)) &and;\n",
       "        (&not;(&#957;<sub>1</sub> + -1&middot;&#957;<sub>0</sub> &le; -1) &or;\n",
       "         &not;(&#957;<sub>0</sub> + -1&middot;&#957;<sub>3</sub> &le; -2) &or;\n",
       "         &not;(&#957;<sub>0</sub> + -1&middot;&#957;<sub>2</sub> &ge; 0)) &and;\n",
       "        &not;(&#957;<sub>1</sub> + -1&middot;&#957;<sub>2</sub> &le; -1) &and;\n",
       "        (&not;(&#957;<sub>0</sub> + -1&middot;&#957;<sub>2</sub> &ge; 0) &or; &not;(&#957;<sub>1</sub> + -1&middot;&#957;<sub>0</sub> &ge; 1))]]"
      ]
     },
     "execution_count": 51,
     "metadata": {},
     "output_type": "execute_result"
    }
   ],
   "source": [
    "answer1"
   ]
  },
  {
   "cell_type": "code",
   "execution_count": 52,
   "metadata": {},
   "outputs": [
    {
     "data": {
      "text/html": [
       "(&not;(x &le; 5000) &or; &not;(y &ge; 5001)) &and;\n",
       "&not;(x + -1&middot;y &ge; 1) &and;\n",
       "(&not;(x &ge; 5000) &or; &not;(x + -1&middot;y &le; -1)) &and;\n",
       "&not;(y &le; 4999)"
      ],
      "text/plain": [
       "(&not;(x &le; 5000) &or; &not;(y &ge; 5001)) &and;\n",
       "&not;(x + -1&middot;y &ge; 1) &and;\n",
       "(&not;(x &ge; 5000) &or; &not;(x + -1&middot;y &le; -1)) &and;\n",
       "&not;(y &le; 4999)"
      ]
     },
     "execution_count": 52,
     "metadata": {},
     "output_type": "execute_result"
    }
   ],
   "source": [
    "answer0.eval(inv0)"
   ]
  },
  {
   "cell_type": "code",
   "execution_count": 49,
   "metadata": {},
   "outputs": [
    {
     "data": {
      "text/html": [
       "(&not;(y + -1&middot;x &le; -1) &or; &not;(x + -1&middot;b &ge; -3)) &and;\n",
       "&not;(a + -1&middot;b &ge; -4999) &and;\n",
       "(&not;(x + -1&middot;a &le; -1) &or; &not;(y + -1&middot;a &ge; 1)) &and;\n",
       "(&not;(y + -1&middot;x &le; -1) &or; &not;(x + -1&middot;a &ge; 0) &or; &not;(x + -1&middot;b &le; -2)) &and;\n",
       "&not;(y + -1&middot;a &le; -1) &and;\n",
       "(&not;(x + -1&middot;a &ge; 0) &or; &not;(y + -1&middot;x &ge; 1))"
      ],
      "text/plain": [
       "(&not;(y + -1&middot;x &le; -1) &or; &not;(x + -1&middot;b &ge; -3)) &and;\n",
       "&not;(a + -1&middot;b &ge; -4999) &and;\n",
       "(&not;(x + -1&middot;a &le; -1) &or; &not;(y + -1&middot;a &ge; 1)) &and;\n",
       "(&not;(y + -1&middot;x &le; -1) &or; &not;(x + -1&middot;a &ge; 0) &or; &not;(x + -1&middot;b &le; -2)) &and;\n",
       "&not;(y + -1&middot;a &le; -1) &and;\n",
       "(&not;(x + -1&middot;a &ge; 0) &or; &not;(y + -1&middot;x &ge; 1))"
      ]
     },
     "execution_count": 49,
     "metadata": {},
     "output_type": "execute_result"
    }
   ],
   "source": [
    "answer1.eval(inv1)"
   ]
  },
  {
   "cell_type": "markdown",
   "metadata": {},
   "source": [
    "### 1. Provide cx for the statement: inv2(x,y,a,b) = inv(x,y)[5000->a, 10000->b]\n",
    "\n",
    "* Invariant for the original benchmark is: <br>\n",
    "Inv1(x,y) = \n",
    "\n",
    "&emsp;(¬(y ≥ 5001) ∨ ¬(y + -1·x ≥ 1)) ∧ ¬(y + -1·x ≤ -1) ∧ ¬(y ≤ 4999) =\n",
    "\n",
    "&emsp;(y ≥ 5001) => (y ≥ x + 1) ∧ y ≥ x ∧ y > 4999\n",
    "\n",
    "* Invariant for the transformed benchmark is: <br>\n",
    "Inv2(x,y,a,b) = \n",
    "\n",
    "&emsp;(¬(y ≥ 5001) ∨ x ≥ y) ∧ y ≥ a ∧ x ≤ y =\n",
    "\n",
    "&emsp; (y > a => x ≥ y) ∧ y ≥ a ∧ x ≤ y\n",
    "\n",
    "\n",
    "#### We need to prove that Inv1(x,y)[5000->a, 10000->b] != Inv2(x,y,a,b) and provide a cx\n",
    "\n",
    "\n",
    "Let's rewrite Inv1(x,y) in such way: <br>\n",
    "Inv1(x,y) = ((y ≥ 5001 => x>=y) ∧ y ≥ 5000 ∧ x ≤ y)\n",
    "<br>\n",
    "Inv1(x,y)[5000->a, 10000->b] = ((y ≥ 5001 => x≥y) ∧ y ≥ a ∧ x ≤ y)"
   ]
  },
  {
   "cell_type": "markdown",
   "metadata": {},
   "source": [
    "#### Let's to find a cx using z3:"
   ]
  },
  {
   "cell_type": "code",
   "execution_count": 56,
   "metadata": {},
   "outputs": [
    {
     "name": "stdout",
     "output_type": "stream",
     "text": [
      "Invariant does not hold for the transition system.\n",
      "Counterexample found:\n",
      "x = 0\n",
      "y = 5002\n",
      "a = 5002\n"
     ]
    }
   ],
   "source": [
    "from z3 import *\n",
    "\n",
    "# Create Z3 variables\n",
    "a, b, x, y, x_prime, y_prime = Ints('a b x y x_prime y_prime')\n",
    "\n",
    "# Create a Z3 solver\n",
    "solver = Solver()\n",
    "\n",
    "# Initial conditions\n",
    "solver.add(x == 0)\n",
    "solver.add(y == a)\n",
    "\n",
    "# Transition relation constraints\n",
    "transition_constraints = And(\n",
    "    x_prime == x + 1,\n",
    "    y_prime == If(x >= a, y + 1, y)\n",
    ")\n",
    "\n",
    "# Invariant constraints\n",
    "invariant_constraints = And(\n",
    "    Implies(y > 5001, x >= y),\n",
    "    y >= a,\n",
    "    x <= y\n",
    ")\n",
    "\n",
    "# Add transition relation and invariant constraints to the solver\n",
    "solver.add(transition_constraints)\n",
    "solver.add(Not(invariant_constraints))  # Adding negation of the invariant for checking\n",
    "\n",
    "# Check for satisfiability\n",
    "if solver.check() == unsat:\n",
    "    print(\"Invariant holds for the transition system.\")\n",
    "else:\n",
    "    print(\"Invariant does not hold for the transition system.\")\n",
    "    counterexample = solver.model()\n",
    "    print(f\"Counterexample found:\")\n",
    "    print(\"x =\", counterexample[x])\n",
    "    print(\"y =\", counterexample[y])\n",
    "    print(\"a =\", counterexample[a])\n"
   ]
  },
  {
   "cell_type": "markdown",
   "metadata": {},
   "source": [
    "### 2. Prove the statement:\n",
    "inv2(x,y,a,b) = inv(x,y) ∧ a = 5000 ∧ b = 10000"
   ]
  },
  {
   "cell_type": "code",
   "execution_count": 57,
   "metadata": {},
   "outputs": [
    {
     "name": "stdout",
     "output_type": "stream",
     "text": [
      "Invariant equivalency holds.\n"
     ]
    }
   ],
   "source": [
    "# vars for Ts0\n",
    "x0, y0 = Ints('x0 y0')\n",
    "\n",
    "# vars for Ts1\n",
    "x1, y1, a1, b1 = Ints('x1 y1 a1 b1')\n",
    "\n",
    "solver = Solver()\n",
    "\n",
    "# Define the invariants for Ts0 and Ts1\n",
    "I0 = And(\n",
    "    Implies(y > 5000, x >= y),\n",
    "    y >= 5000,\n",
    "    x <= y\n",
    ")\n",
    "I1 = And( a1 == 5000, b1 == 10000, Implies(y1 >= a, x1 >= y1), x1 <= y1, y1 >= a1)\n",
    "\n",
    "# Check if (I0 and (a = 5000) and (b = 10000)) is equivalent to I1\n",
    "solver.add(Not(Implies(And(I0, a1 == 5000, b1 == 10000), I1)))\n",
    "solver.add(Not(Implies(I1, And(I0, a1 == 5000, b1 == 10000))))\n",
    "\n",
    "# Check for satisfiability (unsat implies equivalence)\n",
    "if solver.check() == unsat:\n",
    "    print(\"Invariant equivalency holds.\")\n",
    "else:\n",
    "    print(\"Invariant equivalency does not hold.\")\n"
   ]
  }
 ],
 "metadata": {
  "kernelspec": {
   "display_name": "Python 3",
   "language": "python",
   "name": "python3"
  },
  "language_info": {
   "codemirror_mode": {
    "name": "ipython",
    "version": 3
   },
   "file_extension": ".py",
   "mimetype": "text/x-python",
   "name": "python",
   "nbconvert_exporter": "python",
   "pygments_lexer": "ipython3",
   "version": "3.11.7"
  }
 },
 "nbformat": 4,
 "nbformat_minor": 2
}

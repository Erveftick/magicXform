{
 "cells": [
  {
   "cell_type": "markdown",
   "metadata": {},
   "source": [
    "<p style=\"font-size: 12px\">Prerequisite: During last weeks of summer I tried to show my technique to my advisor's collegue. During the conversation I got a task to prove 2 statement that will prove my technique. The picture of notes from this conversation I attach here. Everything on the blackboard was duplicated to this file. As an example was taken the file <a href=\"../challenges/s_split_01.smt2\"><code>s_split_01.smt2</code></a></p>\n",
    "\n",
    "<img src=\"proof_tasks.jpg\" alt=\"drawing\" width=\"300\"/>"
   ]
  },
  {
   "cell_type": "markdown",
   "metadata": {},
   "source": [
    "## Proofs for equisat/non-equisat for variable substitution technique used in magicXform\n",
    "\n",
    "In the file represented original transition system (ts0) and transformed transition system (ts1)"
   ]
  },
  {
   "cell_type": "code",
   "execution_count": 1,
   "metadata": {},
   "outputs": [],
   "source": [
    "import sys\n",
    "sys.path.insert(1, '/Users/ekvashyn/Code/spacer-on-jupyter/src/')\n",
    "from spacer_tutorial import *\n",
    "from z3 import *\n",
    "z3.set_param(proof=True)\n",
    "z3.set_param(model=True)\n",
    "z3.set_html_mode(True)\n"
   ]
  },
  {
   "cell_type": "code",
   "execution_count": 4,
   "metadata": {},
   "outputs": [
    {
     "data": {
      "text/html": [
       "Transition System: Ts0<br/>\tInit: x = 0 &and; y = 5000<br/>\tBad: x = 10000 &and; x &ne; y<br/>\tTr: x' = x + 1 &and; y' = If(x &ge; 5000, y + 1, y)"
      ],
      "text/plain": [
       "\"Transition System: Ts0<br/>\\tInit: x = 0 &and; y = 5000<br/>\\tBad: x = 10000 &and; x &ne; y<br/>\\tTr: x' = x + 1 &and; y' = If(x &ge; 5000, y + 1, y)\""
      ]
     },
     "execution_count": 4,
     "metadata": {},
     "output_type": "execute_result"
    }
   ],
   "source": [
    "def mk_ts0():\n",
    "    T = Ts('Ts0')\n",
    "    x, x_out = T.add_var(z3.IntSort(), name='x')\n",
    "    y, y_out = T.add_var(z3.IntSort(), name='y')\n",
    "    T.Init = z3.And(x == 0, y == 5000)\n",
    "    T.Tr = z3.And(x_out == x + 1, y_out == z3.If(x >= 5000, y+1, y))\n",
    "    T.Bad = z3.And(x == 10000, x != y)\n",
    "    return T\n",
    "\n",
    "ts0 = mk_ts0()\n",
    "HtmlStr(ts0)"
   ]
  },
  {
   "cell_type": "code",
   "execution_count": 115,
   "metadata": {},
   "outputs": [
    {
     "data": {
      "text/html": [
       "Transition System: Ts1<br/>\tInit: a = 5000 &and; b = 10000 &and; x = 0 &and; y = a<br/>\tBad: x = b &and; x &ne; y<br/>\tTr: x' = x + 1 &and; y' = If(x &ge; a, y + 1, y) &and; a' = a &and; b' = b"
      ],
      "text/plain": [
       "\"Transition System: Ts1<br/>\\tInit: a = 5000 &and; b = 10000 &and; x = 0 &and; y = a<br/>\\tBad: x = b &and; x &ne; y<br/>\\tTr: x' = x + 1 &and; y' = If(x &ge; a, y + 1, y) &and; a' = a &and; b' = b\""
      ]
     },
     "execution_count": 115,
     "metadata": {},
     "output_type": "execute_result"
    }
   ],
   "source": [
    "def mk_ts1():\n",
    "    T = Ts('Ts1')\n",
    "    x, x_out = T.add_var(z3.IntSort(), name='x')\n",
    "    y, y_out = T.add_var(z3.IntSort(), name='y')\n",
    "    a, a_out = T.add_var(z3.IntSort(), name='a')\n",
    "    b, b_out = T.add_var(z3.IntSort(), name='b')\n",
    "    T.Init = z3.And(a == 5000, b == 10000, x == 0, y == a)\n",
    "    T.Tr = z3.And(x_out == x + 1, y_out == z3.If(x >= a, y+1, y), a_out == a, b_out == b)\n",
    "    T.Bad = z3.And(x == b, x != y)\n",
    "    return T\n",
    "\n",
    "ts1 = mk_ts1()\n",
    "HtmlStr(ts1)"
   ]
  },
  {
   "cell_type": "code",
   "execution_count": 116,
   "metadata": {},
   "outputs": [],
   "source": [
    "def vc_gen(T):\n",
    "    '''Verification Condition (VC) for an Inductive Invariant'''\n",
    "    Inv = z3.Function('Inv', *(T.sig() + [z3.BoolSort()]))\n",
    "\n",
    "    InvPre = Inv(*T.pre_vars())\n",
    "    InvPost = Inv(*T.post_vars())\n",
    "\n",
    "    all_vars = T.all()\n",
    "    vc_init = z3.ForAll(all_vars, z3.Implies(T.Init, InvPre))\n",
    "    vc_ind = z3.ForAll(all_vars, z3.Implies(z3.And(InvPre, T.Tr), InvPost))\n",
    "    vc_bad = z3.ForAll(all_vars, z3.Implies(z3.And(InvPre, T.Bad), z3.BoolVal(False)))\n",
    "    return [vc_init, vc_ind, vc_bad], InvPre"
   ]
  },
  {
   "cell_type": "code",
   "execution_count": 117,
   "metadata": {},
   "outputs": [],
   "source": [
    "vc0, inv0 = vc_gen(ts0)\n",
    "vc1, inv1 = vc_gen(ts1)"
   ]
  },
  {
   "cell_type": "code",
   "execution_count": 8,
   "metadata": {},
   "outputs": [
    {
     "data": {
      "text/html": [
       "&forall;x, y, x', y' : x = 0 &and; y = 5000 &rArr; Inv(x, y) <br/><br/>&forall;x, y, x', y' :<br/> Inv(x, y) &and; x' = x + 1 &and; y' = If(x &ge; 5000, y + 1, y) &rArr;<br/> Inv(x', y') <br/><br/>&forall;x, y, x', y' : Inv(x, y) &and; x = 10000 &and; x &ne; y &rArr; False <br/><br/>"
      ],
      "text/plain": [
       "\"&forall;x, y, x', y' : x = 0 &and; y = 5000 &rArr; Inv(x, y) <br/><br/>&forall;x, y, x', y' :<br/> Inv(x, y) &and; x' = x + 1 &and; y' = If(x &ge; 5000, y + 1, y) &rArr;<br/> Inv(x', y') <br/><br/>&forall;x, y, x', y' : Inv(x, y) &and; x = 10000 &and; x &ne; y &rArr; False <br/><br/>\""
      ]
     },
     "execution_count": 8,
     "metadata": {},
     "output_type": "execute_result"
    }
   ],
   "source": [
    "chc_to_str(vc0)"
   ]
  },
  {
   "cell_type": "code",
   "execution_count": 118,
   "metadata": {},
   "outputs": [
    {
     "data": {
      "text/html": [
       "&forall;x, y, a, b, x', y', a', b' :<br/> a = 5000 &and; b = 10000 &and; x = 0 &and; y = a &rArr; Inv(x, y, a, b) <br/><br/>&forall;x, y, a, b, x', y', a', b' :<br/> Inv(x, y, a, b) &and;<br/> x' = x + 1 &and;<br/> y' = If(x &ge; a, y + 1, y) &and;<br/> a' = a &and;<br/> b' = b &rArr;<br/> Inv(x', y', a', b') <br/><br/>&forall;x, y, a, b, x', y', a', b' :<br/> Inv(x, y, a, b) &and; x = b &and; x &ne; y &rArr; False <br/><br/>"
      ],
      "text/plain": [
       "\"&forall;x, y, a, b, x', y', a', b' :<br/> a = 5000 &and; b = 10000 &and; x = 0 &and; y = a &rArr; Inv(x, y, a, b) <br/><br/>&forall;x, y, a, b, x', y', a', b' :<br/> Inv(x, y, a, b) &and;<br/> x' = x + 1 &and;<br/> y' = If(x &ge; a, y + 1, y) &and;<br/> a' = a &and;<br/> b' = b &rArr;<br/> Inv(x', y', a', b') <br/><br/>&forall;x, y, a, b, x', y', a', b' :<br/> Inv(x, y, a, b) &and; x = b &and; x &ne; y &rArr; False <br/><br/>\""
      ]
     },
     "execution_count": 118,
     "metadata": {},
     "output_type": "execute_result"
    }
   ],
   "source": [
    "chc_to_str(vc1)"
   ]
  },
  {
   "cell_type": "markdown",
   "metadata": {},
   "source": [
    "#### Invariants for those 2 systems locates below"
   ]
  },
  {
   "cell_type": "markdown",
   "metadata": {},
   "source": [
    "#### Invariant 1"
   ]
  },
  {
   "cell_type": "code",
   "execution_count": 10,
   "metadata": {},
   "outputs": [
    {
     "data": {
      "text/html": [
       "Inv(x, y)"
      ],
      "text/plain": [
       "'Inv(x, y)'"
      ]
     },
     "execution_count": 10,
     "metadata": {},
     "output_type": "execute_result"
    }
   ],
   "source": [
    "HtmlStr(inv0)"
   ]
  },
  {
   "cell_type": "code",
   "execution_count": 76,
   "metadata": {},
   "outputs": [
    {
     "data": {
      "text/html": [
       "<b>sat</b>"
      ],
      "text/plain": [
       "<b>sat</b>"
      ]
     },
     "execution_count": 76,
     "metadata": {},
     "output_type": "execute_result"
    }
   ],
   "source": [
    "res0, answer0 = solve_horn(vc0, max_unfold=100)\n",
    "res0"
   ]
  },
  {
   "cell_type": "code",
   "execution_count": 81,
   "metadata": {},
   "outputs": [
    {
     "data": {
      "text/html": [
       "<b>sat</b>"
      ],
      "text/plain": [
       "<b>sat</b>"
      ]
     },
     "execution_count": 81,
     "metadata": {},
     "output_type": "execute_result"
    }
   ],
   "source": [
    "res0"
   ]
  },
  {
   "cell_type": "code",
   "execution_count": 82,
   "metadata": {},
   "outputs": [
    {
     "data": {
      "text/html": [
       "[Inv = [else &rarr;\n",
       "        (&not;(&#957;<sub>1</sub> &ge; 5001) &or; &not;(&#957;<sub>1</sub> + -1&middot;&#957;<sub>0</sub> &ge; 1)) &and;\n",
       "        &not;(&#957;<sub>1</sub> + -1&middot;&#957;<sub>0</sub> &le; -1) &and;\n",
       "        &not;(&#957;<sub>1</sub> &le; 4999)]]"
      ],
      "text/plain": [
       "[Inv = [else &rarr;\n",
       "        (&not;(&#957;<sub>1</sub> &ge; 5001) &or; &not;(&#957;<sub>1</sub> + -1&middot;&#957;<sub>0</sub> &ge; 1)) &and;\n",
       "        &not;(&#957;<sub>1</sub> + -1&middot;&#957;<sub>0</sub> &le; -1) &and;\n",
       "        &not;(&#957;<sub>1</sub> &le; 4999)]]"
      ]
     },
     "execution_count": 82,
     "metadata": {},
     "output_type": "execute_result"
    }
   ],
   "source": [
    "answer0"
   ]
  },
  {
   "cell_type": "code",
   "execution_count": 84,
   "metadata": {},
   "outputs": [
    {
     "data": {
      "text/html": [
       "(&not;(y &ge; 5001) &or; &not;(y + -1&middot;x &ge; 1)) &and;\n",
       "&not;(y + -1&middot;x &le; -1) &and;\n",
       "&not;(y &le; 4999)"
      ],
      "text/plain": [
       "(&not;(y &ge; 5001) &or; &not;(y + -1&middot;x &ge; 1)) &and;\n",
       "&not;(y + -1&middot;x &le; -1) &and;\n",
       "&not;(y &le; 4999)"
      ]
     },
     "execution_count": 84,
     "metadata": {},
     "output_type": "execute_result"
    }
   ],
   "source": [
    "answer0.eval(inv0)"
   ]
  },
  {
   "cell_type": "markdown",
   "metadata": {},
   "source": [
    "#### Invariant 2"
   ]
  },
  {
   "cell_type": "code",
   "execution_count": 28,
   "metadata": {},
   "outputs": [
    {
     "data": {
      "text/html": [
       "Inv(x, y, a, b)"
      ],
      "text/plain": [
       "'Inv(x, y, a, b)'"
      ]
     },
     "execution_count": 28,
     "metadata": {},
     "output_type": "execute_result"
    }
   ],
   "source": [
    "HtmlStr(inv1)"
   ]
  },
  {
   "cell_type": "code",
   "execution_count": 123,
   "metadata": {},
   "outputs": [],
   "source": [
    "res1, answer1 = solve_horn(vc1, max_unfold=100)"
   ]
  },
  {
   "cell_type": "code",
   "execution_count": 124,
   "metadata": {},
   "outputs": [
    {
     "data": {
      "text/html": [
       "<b>sat</b>"
      ],
      "text/plain": [
       "<b>sat</b>"
      ]
     },
     "execution_count": 124,
     "metadata": {},
     "output_type": "execute_result"
    }
   ],
   "source": [
    "res1"
   ]
  },
  {
   "cell_type": "code",
   "execution_count": 125,
   "metadata": {},
   "outputs": [
    {
     "data": {
      "text/html": [
       "[Inv = [else &rarr;\n",
       "        (&not;(&#957;<sub>0</sub> + -1&middot;&#957;<sub>1</sub> &le; -1) &or; &not;(&#957;<sub>0</sub> + -1&middot;&#957;<sub>2</sub> &ge; 0)) &and;\n",
       "        &not;(&#957;<sub>2</sub> + -1&middot;&#957;<sub>1</sub> &ge; 1) &and;\n",
       "        &not;(&#957;<sub>2</sub> + -1&middot;&#957;<sub>3</sub> &ge; 0) &and;\n",
       "        &not;(&#957;<sub>0</sub> + -1&middot;&#957;<sub>1</sub> &ge; 1) &and;\n",
       "        (&not;(&#957;<sub>0</sub> + -1&middot;&#957;<sub>2</sub> &le; -1) &or; &not;(&#957;<sub>2</sub> + -1&middot;&#957;<sub>1</sub> &le; -1))]]"
      ],
      "text/plain": [
       "[Inv = [else &rarr;\n",
       "        (&not;(&#957;<sub>0</sub> + -1&middot;&#957;<sub>1</sub> &le; -1) &or; &not;(&#957;<sub>0</sub> + -1&middot;&#957;<sub>2</sub> &ge; 0)) &and;\n",
       "        &not;(&#957;<sub>2</sub> + -1&middot;&#957;<sub>1</sub> &ge; 1) &and;\n",
       "        &not;(&#957;<sub>2</sub> + -1&middot;&#957;<sub>3</sub> &ge; 0) &and;\n",
       "        &not;(&#957;<sub>0</sub> + -1&middot;&#957;<sub>1</sub> &ge; 1) &and;\n",
       "        (&not;(&#957;<sub>0</sub> + -1&middot;&#957;<sub>2</sub> &le; -1) &or; &not;(&#957;<sub>2</sub> + -1&middot;&#957;<sub>1</sub> &le; -1))]]"
      ]
     },
     "execution_count": 125,
     "metadata": {},
     "output_type": "execute_result"
    }
   ],
   "source": [
    "answer1\n"
   ]
  },
  {
   "cell_type": "code",
   "execution_count": 126,
   "metadata": {},
   "outputs": [
    {
     "data": {
      "text/html": [
       "(&not;(x + -1&middot;y &le; -1) &or; &not;(x + -1&middot;a &ge; 0)) &and;\n",
       "&not;(a + -1&middot;y &ge; 1) &and;\n",
       "&not;(a + -1&middot;b &ge; 0) &and;\n",
       "&not;(x + -1&middot;y &ge; 1) &and;\n",
       "(&not;(x + -1&middot;a &le; -1) &or; &not;(a + -1&middot;y &le; -1))"
      ],
      "text/plain": [
       "(&not;(x + -1&middot;y &le; -1) &or; &not;(x + -1&middot;a &ge; 0)) &and;\n",
       "&not;(a + -1&middot;y &ge; 1) &and;\n",
       "&not;(a + -1&middot;b &ge; 0) &and;\n",
       "&not;(x + -1&middot;y &ge; 1) &and;\n",
       "(&not;(x + -1&middot;a &le; -1) &or; &not;(a + -1&middot;y &le; -1))"
      ]
     },
     "execution_count": 126,
     "metadata": {},
     "output_type": "execute_result"
    }
   ],
   "source": [
    "answer1.eval(inv1)"
   ]
  },
  {
   "cell_type": "markdown",
   "metadata": {},
   "source": [
    "---\n",
    "\n",
    "### 1. Provide cx for the statement: inv2(x,y,a,b) = inv(x,y)[5000->a, 10000->b]\n",
    "\n",
    "* Invariant for the original benchmark is: <br>\n",
    "Inv1(x,y) = \n",
    "\n",
    "&emsp;(¬(y ≥ 5001) ∨ ¬(y + -1·x ≥ 1)) ∧ ¬(y + -1·x ≤ -1) ∧ ¬(y ≤ 4999) =\n",
    "\n",
    "&emsp;(y ≥ 5001) => (y ≥ x + 1) ∧ y ≥ x ∧ y > 4999\n",
    "\n",
    "* Invariant for the transformed benchmark is: <br>\n",
    "Inv2(x,y,a,b) = \n",
    "\n",
    "&emsp;(¬(y ≥ 5001) ∨ x ≥ y) ∧ y ≥ a ∧ x ≤ y =\n",
    "\n",
    "&emsp; (y > a => x ≥ y) ∧ y ≥ a ∧ x ≤ y\n",
    "\n",
    "\n",
    "#### We need to prove that Inv1(x,y)[5000->a, 10000->b] != Inv2(x,y,a,b) and provide a cx\n",
    "\n",
    "\n",
    "Let's rewrite Inv1(x,y) in such way: <br>\n",
    "Inv1(x,y) = ((y ≥ 5001 => x>=y) ∧ y ≥ 5000 ∧ x ≤ y)\n",
    "<br>\n",
    "Inv1(x,y)[5000->a, 10000->b] = ((y ≥ 5001 => x≥y) ∧ y ≥ a ∧ x ≤ y)"
   ]
  },
  {
   "cell_type": "markdown",
   "metadata": {},
   "source": [
    "#### Let's to find a cx using z3:"
   ]
  },
  {
   "cell_type": "code",
   "execution_count": 4,
   "metadata": {},
   "outputs": [
    {
     "name": "stdout",
     "output_type": "stream",
     "text": [
      "Check the initialization condition Init => Inv is valid:\n",
      "Invariant equivalency does not hold.\n",
      "Counterexample:\n",
      "[x = 0, a = 5001, y = 5001]\n",
      "\n",
      "Check the condition Inv ∧ Tr => Inv` is valid:\n",
      "Invariant equivalency does not hold.\n",
      "Counterexample:\n",
      "[x = 4999,\n",
      " y_prime = 5001,\n",
      " x_prime = 5000,\n",
      " a = 4999,\n",
      " y = 5000]\n",
      "\n",
      "Check the initialization condition Inv ∧ Bad => False` is valid:\n",
      "Invariant equivalency does not hold.\n",
      "Counterexample:\n",
      "[b = 0, x_prime = 1, x = 0, y = 5000, y_prime = 0]\n",
      "\n"
     ]
    }
   ],
   "source": [
    "class TransitionSystem:\n",
    "    def __init__(self):\n",
    "        self.a, self.b, self.x, self.y, self.x_prime, self.y_prime = Ints('a b x y x_prime y_prime')\n",
    "\n",
    "    def inv_gen(self, u, w):\n",
    "        '''Returns an invariant with contrains that don't have number 5000 explicitly'''\n",
    "        return And(\n",
    "            Implies(w >= 5001, u >= w),\n",
    "            w > 4999,\n",
    "            u <= w)\n",
    "\n",
    "    def init_constraints(self):\n",
    "        return And(self.x == 0, self.y == self.a)\n",
    "\n",
    "    def transition_constraints(self):\n",
    "        return And(\n",
    "            self.x_prime == self.x + 1,\n",
    "            self.y_prime == If(self.x >= self.a, self.y + 1, self.y))\n",
    "\n",
    "    def bad_state(self):\n",
    "        return And(self.x == self.b, self.x_prime != self.y_prime)\n",
    "\n",
    "    def invariant_constraints(self):\n",
    "        return self.inv_gen(self.x, self.y)\n",
    "\n",
    "    def invariant_prime_constraints(self):\n",
    "        return self.inv_gen(self.x_prime, self.y_prime)\n",
    "\n",
    "    def prove_solver(self, solver):\n",
    "        checked = solver.check() == unsat\n",
    "        if checked:\n",
    "            print(\"Invariant equivalency holds.\")\n",
    "        else:\n",
    "            print(\"Invariant equivalency does not hold.\\nCounterexample:\")\n",
    "            print(solver.model())\n",
    "            print()\n",
    "        return checked\n",
    "    \n",
    "    def prove_init_impl_inv(self):\n",
    "        print(\"Check the initialization condition Init => Inv is valid:\")\n",
    "        solver = Solver()\n",
    "        solver.add(self.init_constraints())\n",
    "        solver.add(Not(self.invariant_constraints()))\n",
    "        self.prove_solver(solver)\n",
    "\n",
    "    def prove_inv_tr_impl_inv_p(self):\n",
    "        print(\"Check the condition Inv ∧ Tr => Inv` is valid:\")\n",
    "        solver2 = Solver()\n",
    "        solver2.add(self.transition_constraints())\n",
    "        solver2.add(self.invariant_constraints())\n",
    "        solver2.add(Not(self.invariant_prime_constraints()))\n",
    "        self.prove_solver(solver2)\n",
    "\n",
    "    def prove_inv_bad_impl_false(self):\n",
    "        print(\"Check the initialization condition Inv ∧ Bad => False` is valid:\")\n",
    "        solver3 = Solver()\n",
    "        solver3.add(self.invariant_constraints())\n",
    "        solver3.add(self.bad_state())\n",
    "        self.prove_solver(solver3)\n",
    "\n",
    "\n",
    "    def check_conditions(self):\n",
    "        self.prove_init_impl_inv()\n",
    "        self.prove_inv_tr_impl_inv_p()\n",
    "        self.prove_inv_bad_impl_false()\n",
    "\n",
    "ts = TransitionSystem()\n",
    "ts.check_conditions()\n"
   ]
  },
  {
   "cell_type": "markdown",
   "metadata": {},
   "source": [
    "### 2. Prove the statement:\n",
    "inv2(x,y,a,b) = inv(x,y) ∧ a = 5000 ∧ b = 10000\n",
    "\n",
    "*    Ts0: `I0=Inv(x,y)`\n",
    "*    Ts1: `I2=Inv2(x,y,a,b)`\n",
    "\n",
    "We aim to prove that `I0` ≡ `I2`"
   ]
  },
  {
   "cell_type": "code",
   "execution_count": 38,
   "metadata": {},
   "outputs": [
    {
     "name": "stdout",
     "output_type": "stream",
     "text": [
      "Check whether inv_for_original_benchmark is equisat to itself:\n",
      "fml1 => fml2: True\n",
      "fml2 => fml1: True\n",
      "Strong prove: = True\n",
      "Weak prove: = True\n",
      "z3 prove: = True\n",
      "\n",
      "Check whether inv_for_original_benchmark is equisat to inv_for_transfromed_benchmark 2:\n",
      "fml1 => fml2: False\n",
      "fml2 => fml1: False\n",
      "Strong prove: = False\n",
      "Weak prove: = True\n",
      "z3 prove: = False\n",
      "\n",
      "Check whether inv_for_original_benchmark is equisat to inv_for_transfromed_benchmark 2:\n",
      "fml1 => fml2: False\n",
      "fml2 => fml1: False\n",
      "Strong prove: = False\n",
      "Weak prove: = True\n",
      "z3 prove: = False\n",
      "\n",
      "Check whether inv_for_original_benchmark is equisat to inv_for_transfromed_benchmark 2:\n",
      "fml1 => fml2: False\n",
      "fml2 => fml1: False\n",
      "Strong prove: = False\n",
      "Weak prove: = True\n",
      "z3 prove: = False\n",
      "\n"
     ]
    }
   ],
   "source": [
    "class InvariantEquivalenceChecker:\n",
    "    def __init__(self):\n",
    "        self.x, self.y, self.a, self.b, self.x_prime, self.y_prime = Ints('x y a b x_prime y_prime')\n",
    "\n",
    "    def inv_for_original_benchmark(self):\n",
    "        '''(y > 5000 => x ≥ y) ∧ y ≥ 5000 ∧ x ≤ y'''\n",
    "        return And(Implies(self.y > 5000, self.x >= self.y), self.y >= 5000, self.x <= self.y)\n",
    "\n",
    "    def z3_prove(self, claim):\n",
    "        \"\"\"Stolen from z3 codebase part. Return boolean value of result\n",
    "        Try to prove the given claim.\n",
    "\n",
    "        This is a simple function for creating demonstrations.  It tries to prove\n",
    "        `claim` by showing the negation is unsatisfiable.\n",
    "\n",
    "        >>> p, q = Bools('p q')\n",
    "        >>> prove(Not(And(p, q)) == Or(Not(p), Not(q)))\n",
    "        true\n",
    "        \"\"\"\n",
    "        s = Solver()\n",
    "        s.add(Not(claim))\n",
    "        return s.check() == unsat\n",
    "\n",
    "    def weak_prove_eq(self, fml1, fml2):\n",
    "        s1 = Solver()\n",
    "        s1.add(Not(Implies(fml1, fml2)))\n",
    "        s1.add(Not(Implies(fml2, fml1)))\n",
    "        return s1.check() == unsat\n",
    "    \n",
    "    def strong_prove_eq(self, fml1, fml2):\n",
    "        s1 = Solver()\n",
    "        s1.add(Not(Implies(fml1, fml2)))\n",
    "        s2 = Solver()\n",
    "        s2.add(Not(Implies(fml2, fml1)))\n",
    "        print(f\"fml1 => fml2: {s1.check() == unsat}\")\n",
    "        print(f\"fml2 => fml1: {s2.check() == unsat}\")\n",
    "        return s1.check() == unsat and s2.check() == unsat\n",
    "    \n",
    "    # Provers\n",
    "    \n",
    "    def prove_inv_equi_inv(self):\n",
    "        print(\"Check whether inv_for_original_benchmark is equisat to itself:\")\n",
    "        inv = self.inv_for_original_benchmark()\n",
    "        inv_2 = And(Implies(self.y > 5000, self.x + 1 > self.y), self.y >= 5000, self.x - 1 < self.y)\n",
    "        print(f\"Strong prove: = {self.strong_prove_eq(inv, inv_2)}\")\n",
    "        print(f\"Weak prove: = {self.weak_prove_eq(inv, inv_2)}\")\n",
    "        print(f\"z3 prove: = {self.z3_prove(inv == inv_2)}\")\n",
    "        print()\n",
    "\n",
    "    def prove_inv_equi_inv_2(self):\n",
    "        '''(y > a => x ≥ y) ∧ y ≥ a ∧ x ≤ y'''\n",
    "        print(\"Check whether inv_for_original_benchmark is equisat to inv_for_transfromed_benchmark 2:\")\n",
    "        inv = self.inv_for_original_benchmark()\n",
    "        I1 = And(Implies(self.y > self.a, self.x >= self.y), self.x <= self.y, self.y >= self.a)        \n",
    "        print(f\"Strong prove: = {self.strong_prove_eq(inv, I1)}\")\n",
    "        print(f\"Weak prove: = {self.weak_prove_eq(inv, I1)}\")\n",
    "        print(f\"z3 prove: = {self.z3_prove(inv == I1)}\")\n",
    "        print()\n",
    "        \n",
    "    def prove_inv_equi_inv_3(self):\n",
    "        print(\"Check whether inv_for_original_benchmark is equisat to inv_for_transfromed_benchmark 2:\")\n",
    "        inv = self.inv_for_original_benchmark()\n",
    "        I2 = And(Implies(self.a - self.y <= -1, self.x > self.y - 1),\n",
    "                  self.x < self.y + 1,\n",
    "                  self.b - self.a >= 5000,\n",
    "                  self.a < self.y + 1)\n",
    "        print(f\"Strong prove: = {self.strong_prove_eq(inv, I2)}\")\n",
    "        print(f\"Weak prove: = {self.weak_prove_eq(inv, I2)}\")\n",
    "        print(f\"z3 prove: = {self.z3_prove(inv == I2)}\")\n",
    "        print()\n",
    "        \n",
    "    def prove_inv_equi_inv_4(self):\n",
    "        print(\"Check whether inv_for_original_benchmark is equisat to inv_for_transfromed_benchmark 2:\")\n",
    "        inv = self.inv_for_original_benchmark()\n",
    "        I2 = And(Or(Not(self.x - self.y <= -1), Not(self.x - self.a >= 0)),\n",
    "            Not(self.a - self.y >= 1),\n",
    "            self.b - self.a > 4999,\n",
    "            Not(self.x - self.y >= 1),\n",
    "            Or(Not(self.x - self.a <= -1), Not(self.a - self.y <= -1)))\n",
    "        print(f\"Strong prove: = {self.strong_prove_eq(inv, I2)}\")\n",
    "        print(f\"Weak prove: = {self.weak_prove_eq(inv, I2)}\")\n",
    "        print(f\"z3 prove: = {self.z3_prove(inv == I2)}\")\n",
    "        print()\n",
    "\n",
    "\n",
    "    def check_invariant_equivalence(self):\n",
    "        self.prove_inv_equi_inv()\n",
    "        self.prove_inv_equi_inv_2()\n",
    "        self.prove_inv_equi_inv_3()\n",
    "        self.prove_inv_equi_inv_4()\n",
    "\n",
    "iec = InvariantEquivalenceChecker()\n",
    "iec.check_invariant_equivalence()\n"
   ]
  },
  {
   "cell_type": "markdown",
   "metadata": {},
   "source": [
    "There I tried 2 approaches to prove that invariants equisat, but got 2 different answers. I believe it's not.\n",
    "\n",
    "#### Below I tried to fit invariant of a transformed benchmark to initial one and see whether it will take it, but I tried 3 different invariants (because solve_horn returned me >1 solution), but non of them worked. Probably I miss something"
   ]
  },
  {
   "cell_type": "code",
   "execution_count": 134,
   "metadata": {},
   "outputs": [
    {
     "name": "stdout",
     "output_type": "stream",
     "text": [
      "Check the initialization condition Init => Inv is valid:\n",
      "Invariant equivalency does not hold.\n",
      "[y = 5000, b = 5001, x = 0, a = 1]\n",
      "Check the condition Inv ∧ Tr => Inv` is valid:\n",
      "Invariant equivalency does not hold.\n",
      "[a = 5002,\n",
      " x = 5000,\n",
      " y_prime = 5003,\n",
      " b = 10002,\n",
      " x_prime = 5001,\n",
      " y = 5002]\n",
      "Check the initialization condition Inv ∧ Bad => False` is valid:\n",
      "Invariant equivalency does not hold.\n",
      "[a = 5002,\n",
      " x = 5000,\n",
      " y_prime = 5003,\n",
      " y = 5002,\n",
      " x_prime = 5001,\n",
      " b = 10002]\n"
     ]
    }
   ],
   "source": [
    "a, b, x, y, x_prime, y_prime = Ints('a b x y x_prime y_prime')\n",
    "\n",
    "init_constraints = And(\n",
    "    # a == 5000,\n",
    "    # b == 10000,\n",
    "    x == 0,\n",
    "    y == 5000 \n",
    ")\n",
    "\n",
    "transition_constraints = And(\n",
    "    x_prime == x + 1,\n",
    "    y_prime == If(x >= 5000, y + 1, y)\n",
    ")\n",
    "bad_state = And(x == 10000, x_prime != y_prime)\n",
    "\n",
    "I0 = And(Implies(y > 5000, x + 1 > y), y >= 5000, x - 1 < y)\n",
    "I0_prime = And(Implies(y_prime > 5000, x_prime + 1 > y_prime),\n",
    "                y_prime >= 5000, x_prime - 1 < y_prime)\n",
    "\n",
    "I1 = And(Implies(y >= a, x >= y), x <= y, y >= a)\n",
    "I1_prime = And(Implies(y_prime >= a, x_prime >= y_prime), x_prime <= y_prime, y_prime >= a)\n",
    "\n",
    "I2 = And(Implies(a-y <= -1, x>y-1),\n",
    "        # Not(And(a - y <= -1, x - y <= -1)),\n",
    "         x < y + 1, \n",
    "         b - a > 4999,\n",
    "         a - 1 < y)\n",
    "I2_prime = And(\n",
    "    Implies(a-y_prime <= -1, x_prime>y_prime-1),\n",
    "        # Not(And(a -y_prime <= -1, x_prime - y_prime <= -1)),\n",
    "         x_prime < y_prime + 1, \n",
    "         b - a > 4999,\n",
    "         a - 1 < y_prime)\n",
    "\n",
    "I3 = And(Or(Not(x - y <= -1), Not(x - a >= 0)),\n",
    "         Not(a - y >= 1),\n",
    "         b - a > 4999,\n",
    "         Not(x - y >= 1),\n",
    "         Or(Not(x - a <= -1), Not(a - y <= -1)))\n",
    "\n",
    "I3_prime = And(Or(Not(x_prime - y_prime <= -1), Not(x_prime - a >= 0)),\n",
    "         Not(a - y_prime >= 1),\n",
    "         b - a > 4999,\n",
    "         Not(x_prime - y_prime >= 1),\n",
    "         Or(Not(x_prime - a <= -1), Not(a - y_prime <= -1)))\n",
    "\n",
    "# (¬(x + -1·y ≤ -1) ∨ ¬(x + -1·a ≥ 0)) ∧\n",
    "# ¬(a + -1·y ≥ 1) ∧ ¬(a + -1·b ≥ 0) ∧ \n",
    "# ¬(x + -1·y ≥ 1) ∧ \n",
    "# (¬(x + -1·a ≤ -1) ∨ ¬(a + -1·y ≤ -1))\n",
    "\n",
    "solver = Solver()\n",
    "solver.add(init_constraints)\n",
    "solver.add(Not(I3))\n",
    "\n",
    "print(\"Check the initialization condition Init => Inv is valid:\")\n",
    "prove_solver(solver)\n",
    "\n",
    "solver2 = Solver()\n",
    "solver2.add(transition_constraints)\n",
    "solver2.add(I3)\n",
    "solver2.add(Not(I3_prime))\n",
    "\n",
    "print(\"Check the condition Inv ∧ Tr => Inv` is valid:\")\n",
    "prove_solver(solver2)\n",
    "\n",
    "solver3 = Solver()\n",
    "solver3.add(I3)\n",
    "solver3.add(bad_state)\n",
    "print(\"Check the initialization condition Inv ∧ Bad => False` is valid:\")\n",
    "prove_solver(solver2)\n"
   ]
  }
 ],
 "metadata": {
  "kernelspec": {
   "display_name": "Python 3",
   "language": "python",
   "name": "python3"
  },
  "language_info": {
   "codemirror_mode": {
    "name": "ipython",
    "version": 3
   },
   "file_extension": ".py",
   "mimetype": "text/x-python",
   "name": "python",
   "nbconvert_exporter": "python",
   "pygments_lexer": "ipython3",
   "version": "3.11.7"
  }
 },
 "nbformat": 4,
 "nbformat_minor": 2
}

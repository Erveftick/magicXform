{
 "cells": [
  {
   "cell_type": "code",
   "execution_count": 7,
   "metadata": {},
   "outputs": [
    {
     "name": "stdout",
     "output_type": "stream",
     "text": [
      "    Benchmark ImplCheck  FreqHorn  Gspacer  MagicXform\n",
      "0  s_split_01         e         5        8           8\n",
      "1  s_split_02        20        15       18          18\n",
      "2  s_split_03        15        10       12          12\n"
     ]
    }
   ],
   "source": [
    "import pandas as pd\n",
    "\n",
    "ImplCheckResults = []\n",
    "data = {\n",
    "    'Benchmark': [f\"s_split_{str(i).zfill(2)}\" for i in range(1, 4)],\n",
    "    'ImplCheck': [\"e\", 20, 15],\n",
    "    'FreqHorn': [5, 15, 10],\n",
    "    'Gspacer': [8, 18, 12],\n",
    "    'MagicXform': [8, 18, 12]\n",
    "}\n",
    "\n",
    "# Create a DataFrame\n",
    "df = pd.DataFrame(data)\n",
    "\n",
    "# Display the DataFrame\n",
    "print(df)\n"
   ]
  }
 ],
 "metadata": {
  "kernelspec": {
   "display_name": "Python 3",
   "language": "python",
   "name": "python3"
  },
  "language_info": {
   "codemirror_mode": {
    "name": "ipython",
    "version": 3
   },
   "file_extension": ".py",
   "mimetype": "text/x-python",
   "name": "python",
   "nbconvert_exporter": "python",
   "pygments_lexer": "ipython3",
   "version": "3.11.6"
  }
 },
 "nbformat": 4,
 "nbformat_minor": 2
}
